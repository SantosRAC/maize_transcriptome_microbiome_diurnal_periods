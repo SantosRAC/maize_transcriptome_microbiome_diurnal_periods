{
 "cells": [
  {
   "cell_type": "markdown",
   "metadata": {},
   "source": [
    "# GO Enrichment Analysis of Genes in Co-Expression Modules responding to day/night\n",
    "\n"
   ]
  },
  {
   "cell_type": "code",
   "execution_count": 2,
   "metadata": {},
   "outputs": [],
   "source": [
    "import pandas as pd\n",
    "\n",
    "exp_table_long_z = pd.read_table(\"/home/renato/projects/fapesp_bepe_pd/transcriptome/Exp_table_long_z.txt\", sep=\"\\t\", index_col=0)\n",
    "modules_t_test = pd.read_table(\"/home/renato/projects/fapesp_bepe_pd/transcriptome/modules_t_test.txt\", sep=\"\\t\", index_col=0)\n",
    "filtered_exp_table = exp_table_long_z[exp_table_long_z['module'].isin(modules_t_test.index)]"
   ]
  },
  {
   "cell_type": "code",
   "execution_count": 7,
   "metadata": {},
   "outputs": [],
   "source": [
    "# Group by the 'module' column and iterate over each group\n",
    "for module, group in filtered_exp_table.groupby('module'):\n",
    "    # Get the unique index values\n",
    "    unique_genes = group.index.unique()\n",
    "    # Define the filename\n",
    "    filename = f\"/home/renato/projects/fapesp_bepe_pd/transcriptome/module_{module}_genes.txt\"\n",
    "    # Save the unique indices to a file\n",
    "    unique_genes.to_series().to_csv(filename, index=False, header=False)"
   ]
  }
 ],
 "metadata": {
  "kernelspec": {
   "display_name": ".venv",
   "language": "python",
   "name": "python3"
  },
  "language_info": {
   "codemirror_mode": {
    "name": "ipython",
    "version": 3
   },
   "file_extension": ".py",
   "mimetype": "text/x-python",
   "name": "python",
   "nbconvert_exporter": "python",
   "pygments_lexer": "ipython3",
   "version": "3.10.16"
  }
 },
 "nbformat": 4,
 "nbformat_minor": 2
}
