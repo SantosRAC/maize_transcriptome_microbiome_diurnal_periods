{
 "cells": [
  {
   "cell_type": "markdown",
   "metadata": {},
   "source": [
    "# Normalization and filtering steps\n",
    "\n",
    "Expression data (counts) obtained in Salmon for day and night samples were used in this notebook for normalization and filtering based on abundance and variation (VST).\n"
   ]
  },
  {
   "cell_type": "markdown",
   "metadata": {},
   "source": [
    "## Importing tables"
   ]
  },
  {
   "cell_type": "markdown",
   "metadata": {},
   "source": [
    "### Importing expression counts with day and night samples\n",
    "\n"
   ]
  },
  {
   "cell_type": "code",
   "execution_count": 1,
   "metadata": {},
   "outputs": [],
   "source": [
    "import pandas as pd\n",
    "\n",
    "expression_counts_day = pd.read_csv(\"/home/renato/projects/fapesp_bepe_pd/transcriptome/kremling_expression_v5_day.tsv\",\n",
    "                                    sep=\"\\t\")\n",
    "expression_counts_day.set_index(\"Name\", inplace=True)\n",
    "expression_counts_day.columns = expression_counts_day.columns.str.replace('^','exp_day_', regex=True)\n",
    "expression_counts_night = pd.read_csv(\"/home/renato/projects/fapesp_bepe_pd/transcriptome/kremling_expression_v5_night.tsv\",\n",
    "                                    sep=\"\\t\")\n",
    "expression_counts_night.set_index(\"Name\", inplace=True)\n",
    "expression_counts_night.columns = expression_counts_night.columns.str.replace('^','exp_night_', regex=True)"
   ]
  },
  {
   "cell_type": "code",
   "execution_count": 2,
   "metadata": {},
   "outputs": [
    {
     "data": {
      "text/html": [
       "<div>\n",
       "<style scoped>\n",
       "    .dataframe tbody tr th:only-of-type {\n",
       "        vertical-align: middle;\n",
       "    }\n",
       "\n",
       "    .dataframe tbody tr th {\n",
       "        vertical-align: top;\n",
       "    }\n",
       "\n",
       "    .dataframe thead th {\n",
       "        text-align: right;\n",
       "    }\n",
       "</style>\n",
       "<table border=\"1\" class=\"dataframe\">\n",
       "  <thead>\n",
       "    <tr style=\"text-align: right;\">\n",
       "      <th></th>\n",
       "      <th>exp_day_14A0253_26</th>\n",
       "      <th>exp_day_14A0171_26</th>\n",
       "      <th>exp_day_14A0045_8</th>\n",
       "      <th>exp_day_14A0085_8</th>\n",
       "      <th>exp_day_14A0079_26</th>\n",
       "      <th>exp_day_14A0467_26</th>\n",
       "      <th>exp_day_14A0039_8</th>\n",
       "      <th>exp_day_14A0403_26</th>\n",
       "      <th>exp_day_14A0063_8</th>\n",
       "      <th>exp_day_14A0513_26</th>\n",
       "      <th>...</th>\n",
       "      <th>exp_night_14A0519_26</th>\n",
       "      <th>exp_night_14A0005_8</th>\n",
       "      <th>exp_night_14A0027_8</th>\n",
       "      <th>exp_night_14A0533_26</th>\n",
       "      <th>exp_night_14A0333_26</th>\n",
       "      <th>exp_night_14A0473_26</th>\n",
       "      <th>exp_night_14A0047_8</th>\n",
       "      <th>exp_night_14A0453_26</th>\n",
       "      <th>exp_night_14A0345_8</th>\n",
       "      <th>exp_night_14A0343_8</th>\n",
       "    </tr>\n",
       "    <tr>\n",
       "      <th>Name</th>\n",
       "      <th></th>\n",
       "      <th></th>\n",
       "      <th></th>\n",
       "      <th></th>\n",
       "      <th></th>\n",
       "      <th></th>\n",
       "      <th></th>\n",
       "      <th></th>\n",
       "      <th></th>\n",
       "      <th></th>\n",
       "      <th></th>\n",
       "      <th></th>\n",
       "      <th></th>\n",
       "      <th></th>\n",
       "      <th></th>\n",
       "      <th></th>\n",
       "      <th></th>\n",
       "      <th></th>\n",
       "      <th></th>\n",
       "      <th></th>\n",
       "      <th></th>\n",
       "    </tr>\n",
       "  </thead>\n",
       "  <tbody>\n",
       "    <tr>\n",
       "      <th>Zm00001eb371370_T002</th>\n",
       "      <td>2</td>\n",
       "      <td>3</td>\n",
       "      <td>7</td>\n",
       "      <td>7</td>\n",
       "      <td>1</td>\n",
       "      <td>8</td>\n",
       "      <td>7</td>\n",
       "      <td>24</td>\n",
       "      <td>20</td>\n",
       "      <td>4</td>\n",
       "      <td>...</td>\n",
       "      <td>1</td>\n",
       "      <td>0</td>\n",
       "      <td>0</td>\n",
       "      <td>3</td>\n",
       "      <td>1</td>\n",
       "      <td>1</td>\n",
       "      <td>0</td>\n",
       "      <td>0</td>\n",
       "      <td>0</td>\n",
       "      <td>0</td>\n",
       "    </tr>\n",
       "    <tr>\n",
       "      <th>Zm00001eb371350_T001</th>\n",
       "      <td>0</td>\n",
       "      <td>0</td>\n",
       "      <td>0</td>\n",
       "      <td>0</td>\n",
       "      <td>0</td>\n",
       "      <td>0</td>\n",
       "      <td>0</td>\n",
       "      <td>0</td>\n",
       "      <td>0</td>\n",
       "      <td>0</td>\n",
       "      <td>...</td>\n",
       "      <td>0</td>\n",
       "      <td>0</td>\n",
       "      <td>0</td>\n",
       "      <td>0</td>\n",
       "      <td>0</td>\n",
       "      <td>0</td>\n",
       "      <td>0</td>\n",
       "      <td>0</td>\n",
       "      <td>0</td>\n",
       "      <td>0</td>\n",
       "    </tr>\n",
       "    <tr>\n",
       "      <th>Zm00001eb371330_T001</th>\n",
       "      <td>0</td>\n",
       "      <td>0</td>\n",
       "      <td>0</td>\n",
       "      <td>0</td>\n",
       "      <td>0</td>\n",
       "      <td>0</td>\n",
       "      <td>0</td>\n",
       "      <td>0</td>\n",
       "      <td>0</td>\n",
       "      <td>0</td>\n",
       "      <td>...</td>\n",
       "      <td>0</td>\n",
       "      <td>0</td>\n",
       "      <td>0</td>\n",
       "      <td>0</td>\n",
       "      <td>0</td>\n",
       "      <td>0</td>\n",
       "      <td>0</td>\n",
       "      <td>0</td>\n",
       "      <td>0</td>\n",
       "      <td>0</td>\n",
       "    </tr>\n",
       "    <tr>\n",
       "      <th>Zm00001eb371310_T001</th>\n",
       "      <td>0</td>\n",
       "      <td>0</td>\n",
       "      <td>0</td>\n",
       "      <td>0</td>\n",
       "      <td>0</td>\n",
       "      <td>0</td>\n",
       "      <td>0</td>\n",
       "      <td>0</td>\n",
       "      <td>0</td>\n",
       "      <td>0</td>\n",
       "      <td>...</td>\n",
       "      <td>0</td>\n",
       "      <td>0</td>\n",
       "      <td>0</td>\n",
       "      <td>0</td>\n",
       "      <td>0</td>\n",
       "      <td>0</td>\n",
       "      <td>0</td>\n",
       "      <td>0</td>\n",
       "      <td>0</td>\n",
       "      <td>0</td>\n",
       "    </tr>\n",
       "    <tr>\n",
       "      <th>Zm00001eb371280_T001</th>\n",
       "      <td>3</td>\n",
       "      <td>0</td>\n",
       "      <td>6</td>\n",
       "      <td>22</td>\n",
       "      <td>3</td>\n",
       "      <td>9</td>\n",
       "      <td>10</td>\n",
       "      <td>5</td>\n",
       "      <td>8</td>\n",
       "      <td>4</td>\n",
       "      <td>...</td>\n",
       "      <td>3</td>\n",
       "      <td>0</td>\n",
       "      <td>6</td>\n",
       "      <td>0</td>\n",
       "      <td>4</td>\n",
       "      <td>1</td>\n",
       "      <td>4</td>\n",
       "      <td>0</td>\n",
       "      <td>9</td>\n",
       "      <td>4</td>\n",
       "    </tr>\n",
       "  </tbody>\n",
       "</table>\n",
       "<p>5 rows × 404 columns</p>\n",
       "</div>"
      ],
      "text/plain": [
       "                      exp_day_14A0253_26  exp_day_14A0171_26  \\\n",
       "Name                                                           \n",
       "Zm00001eb371370_T002                   2                   3   \n",
       "Zm00001eb371350_T001                   0                   0   \n",
       "Zm00001eb371330_T001                   0                   0   \n",
       "Zm00001eb371310_T001                   0                   0   \n",
       "Zm00001eb371280_T001                   3                   0   \n",
       "\n",
       "                      exp_day_14A0045_8  exp_day_14A0085_8  \\\n",
       "Name                                                         \n",
       "Zm00001eb371370_T002                  7                  7   \n",
       "Zm00001eb371350_T001                  0                  0   \n",
       "Zm00001eb371330_T001                  0                  0   \n",
       "Zm00001eb371310_T001                  0                  0   \n",
       "Zm00001eb371280_T001                  6                 22   \n",
       "\n",
       "                      exp_day_14A0079_26  exp_day_14A0467_26  \\\n",
       "Name                                                           \n",
       "Zm00001eb371370_T002                   1                   8   \n",
       "Zm00001eb371350_T001                   0                   0   \n",
       "Zm00001eb371330_T001                   0                   0   \n",
       "Zm00001eb371310_T001                   0                   0   \n",
       "Zm00001eb371280_T001                   3                   9   \n",
       "\n",
       "                      exp_day_14A0039_8  exp_day_14A0403_26  \\\n",
       "Name                                                          \n",
       "Zm00001eb371370_T002                  7                  24   \n",
       "Zm00001eb371350_T001                  0                   0   \n",
       "Zm00001eb371330_T001                  0                   0   \n",
       "Zm00001eb371310_T001                  0                   0   \n",
       "Zm00001eb371280_T001                 10                   5   \n",
       "\n",
       "                      exp_day_14A0063_8  exp_day_14A0513_26  ...  \\\n",
       "Name                                                         ...   \n",
       "Zm00001eb371370_T002                 20                   4  ...   \n",
       "Zm00001eb371350_T001                  0                   0  ...   \n",
       "Zm00001eb371330_T001                  0                   0  ...   \n",
       "Zm00001eb371310_T001                  0                   0  ...   \n",
       "Zm00001eb371280_T001                  8                   4  ...   \n",
       "\n",
       "                      exp_night_14A0519_26  exp_night_14A0005_8  \\\n",
       "Name                                                              \n",
       "Zm00001eb371370_T002                     1                    0   \n",
       "Zm00001eb371350_T001                     0                    0   \n",
       "Zm00001eb371330_T001                     0                    0   \n",
       "Zm00001eb371310_T001                     0                    0   \n",
       "Zm00001eb371280_T001                     3                    0   \n",
       "\n",
       "                      exp_night_14A0027_8  exp_night_14A0533_26  \\\n",
       "Name                                                              \n",
       "Zm00001eb371370_T002                    0                     3   \n",
       "Zm00001eb371350_T001                    0                     0   \n",
       "Zm00001eb371330_T001                    0                     0   \n",
       "Zm00001eb371310_T001                    0                     0   \n",
       "Zm00001eb371280_T001                    6                     0   \n",
       "\n",
       "                      exp_night_14A0333_26  exp_night_14A0473_26  \\\n",
       "Name                                                               \n",
       "Zm00001eb371370_T002                     1                     1   \n",
       "Zm00001eb371350_T001                     0                     0   \n",
       "Zm00001eb371330_T001                     0                     0   \n",
       "Zm00001eb371310_T001                     0                     0   \n",
       "Zm00001eb371280_T001                     4                     1   \n",
       "\n",
       "                      exp_night_14A0047_8  exp_night_14A0453_26  \\\n",
       "Name                                                              \n",
       "Zm00001eb371370_T002                    0                     0   \n",
       "Zm00001eb371350_T001                    0                     0   \n",
       "Zm00001eb371330_T001                    0                     0   \n",
       "Zm00001eb371310_T001                    0                     0   \n",
       "Zm00001eb371280_T001                    4                     0   \n",
       "\n",
       "                      exp_night_14A0345_8  exp_night_14A0343_8  \n",
       "Name                                                            \n",
       "Zm00001eb371370_T002                    0                    0  \n",
       "Zm00001eb371350_T001                    0                    0  \n",
       "Zm00001eb371330_T001                    0                    0  \n",
       "Zm00001eb371310_T001                    0                    0  \n",
       "Zm00001eb371280_T001                    9                    4  \n",
       "\n",
       "[5 rows x 404 columns]"
      ]
     },
     "execution_count": 2,
     "metadata": {},
     "output_type": "execute_result"
    }
   ],
   "source": [
    "expression_counts_day_night = pd.concat([expression_counts_day,\n",
    "                                         expression_counts_night], axis=1)\n",
    "expression_counts_day_night.head()"
   ]
  },
  {
   "cell_type": "markdown",
   "metadata": {},
   "source": [
    "## Normalizing data - transcript expression"
   ]
  },
  {
   "cell_type": "markdown",
   "metadata": {},
   "source": [
    "Importing transcript lenghts required in RPKM and TPM normalization methods:"
   ]
  },
  {
   "cell_type": "code",
   "execution_count": 4,
   "metadata": {},
   "outputs": [],
   "source": [
    "gene_length_table = pd.read_csv('/home/renato/projects/fapesp_bepe_pd/transcriptome/Zmays_Zm_B73_REFERENCE_NAM_5_0_55_transcripts_PrimaryTranscriptOnly_length.txt',\n",
    "                               sep=\"\\t\")\n",
    "gene_length_table.set_index('Name', inplace=True)"
   ]
  },
  {
   "cell_type": "markdown",
   "metadata": {},
   "source": [
    "### RPKM"
   ]
  },
  {
   "cell_type": "code",
   "execution_count": 5,
   "metadata": {},
   "outputs": [],
   "source": [
    "from bioinfokit.analys import norm\n",
    "\n",
    "kremling_raw_expression_v5_gene_length = pd.merge(expression_counts_day_night, gene_length_table, on=\"Name\")\n",
    "nm = norm()\n",
    "nm.rpkm(df=kremling_raw_expression_v5_gene_length, gl='Length')\n",
    "kremling_expression_v5_rpkm = nm.rpkm_norm"
   ]
  },
  {
   "cell_type": "markdown",
   "metadata": {},
   "source": [
    "### TPM"
   ]
  },
  {
   "cell_type": "code",
   "execution_count": 6,
   "metadata": {},
   "outputs": [],
   "source": [
    "from bioinfokit.analys import norm\n",
    "\n",
    "nm = norm()\n",
    "nm.tpm(df=kremling_raw_expression_v5_gene_length, gl='Length')\n",
    "kremling_expression_v5_tpm = nm.tpm_norm"
   ]
  },
  {
   "cell_type": "markdown",
   "metadata": {},
   "source": [
    "### Transcript expression"
   ]
  },
  {
   "cell_type": "markdown",
   "metadata": {},
   "source": [
    "Filter genes based on RPKM values:"
   ]
  },
  {
   "cell_type": "code",
   "execution_count": 7,
   "metadata": {},
   "outputs": [],
   "source": [
    "genes_tokeep = kremling_expression_v5_rpkm[(kremling_expression_v5_rpkm > 3).sum(axis=1) >= (kremling_expression_v5_rpkm.shape[1] * 0.8)].index"
   ]
  },
  {
   "cell_type": "markdown",
   "metadata": {},
   "source": [
    "Filtering the TPM matrix based on RPKM threshold above:"
   ]
  },
  {
   "cell_type": "code",
   "execution_count": 8,
   "metadata": {},
   "outputs": [],
   "source": [
    "kremling_expression_v5_tpm_filtered = kremling_expression_v5_tpm[kremling_expression_v5_tpm.index.isin(genes_tokeep)]"
   ]
  },
  {
   "cell_type": "markdown",
   "metadata": {},
   "source": [
    "Filtering based on coefficient of variation:"
   ]
  },
  {
   "cell_type": "code",
   "execution_count": 9,
   "metadata": {},
   "outputs": [],
   "source": [
    "import numpy as np\n",
    "\n",
    "# Calculate the coefficient of variation for each row\n",
    "kremling_expression_v5_tpm_filtered_cv = kremling_expression_v5_tpm_filtered.apply(lambda row: np.std(row) / np.mean(row), axis=1)\n",
    "kremling_expression_v5_tpm_filtered_cv_filtered = kremling_expression_v5_tpm_filtered.loc[kremling_expression_v5_tpm_filtered_cv[kremling_expression_v5_tpm_filtered_cv > kremling_expression_v5_tpm_filtered_cv.quantile(q=0.25)].index]"
   ]
  },
  {
   "cell_type": "markdown",
   "metadata": {},
   "source": [
    "## Exporting the whole filtered matrix\n",
    "\n",
    "The final filtered expression matrix was used to compute co-expression (corALS) and cross-correlation (SparXCC) networks.\n"
   ]
  },
  {
   "cell_type": "code",
   "execution_count": 10,
   "metadata": {},
   "outputs": [],
   "source": [
    "kremling_expression_v5_tpm_filtered_cv_filtered.to_csv(\"/home/renato/projects/fapesp_bepe_pd/transcriptome/kremling_expression_v5_tpm_filtered_cv_filtered.tsv\",\n",
    "                                                        sep=\"\\t\")"
   ]
  }
 ],
 "metadata": {
  "kernelspec": {
   "display_name": ".venv",
   "language": "python",
   "name": "python3"
  },
  "language_info": {
   "codemirror_mode": {
    "name": "ipython",
    "version": 3
   },
   "file_extension": ".py",
   "mimetype": "text/x-python",
   "name": "python",
   "nbconvert_exporter": "python",
   "pygments_lexer": "ipython3",
   "version": "3.10.16"
  }
 },
 "nbformat": 4,
 "nbformat_minor": 2
}
