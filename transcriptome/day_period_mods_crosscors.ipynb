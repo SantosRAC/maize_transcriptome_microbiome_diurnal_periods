{
 "cells": [
  {
   "cell_type": "markdown",
   "metadata": {},
   "source": [
    "# Cross-correlations and co-expression modules responding to day periods\n",
    "\n",
    "Two different analyses were carried out to identify:\n",
    "* Co-expression modules responding to differences in day/night periods\n",
    "* Cross-correlations between gene expression and microbial abundance in day and night samples\n",
    "\n",
    "This notebook describes the analyses in the intersection between these two analyses."
   ]
  },
  {
   "cell_type": "markdown",
   "metadata": {},
   "source": [
    "Importing edge lists with cross-correlations:"
   ]
  },
  {
   "cell_type": "code",
   "execution_count": 2,
   "metadata": {},
   "outputs": [],
   "source": [
    "import pandas as pd\n",
    "\n",
    "day_sparxcc = pd.read_table(\"/home/renato/projects/fapesp_bepe_pd/integration_transcriptome_microbiome/SparXCC_output_day_common_samples_edgelist.tsv\",\n",
    "              sep=\"\\t\", index_col=0)\n",
    "night_sparxcc = pd.read_table(\"/home/renato/projects/fapesp_bepe_pd/integration_transcriptome_microbiome/SparXCC_output_night_common_samples_edgelist.tsv\",\n",
    "              sep=\"\\t\", index_col=0)"
   ]
  },
  {
   "cell_type": "markdown",
   "metadata": {},
   "source": [
    "Importing table with gene and corresponding modules as well as the table with modules with significant difference between day and night expression:"
   ]
  },
  {
   "cell_type": "code",
   "execution_count": 3,
   "metadata": {},
   "outputs": [],
   "source": [
    "exp_table_long_z = pd.read_table(\"/home/renato/projects/fapesp_bepe_pd/transcriptome/Exp_table_long_z.txt\", sep=\"\\t\", index_col=0)\n",
    "modules_t_test = pd.read_table(\"/home/renato/projects/fapesp_bepe_pd/transcriptome/modules_t_test.txt\", sep=\"\\t\", index_col=0)"
   ]
  },
  {
   "cell_type": "markdown",
   "metadata": {},
   "source": [
    "Filtering expression table based on modules with sign difference between day and night"
   ]
  },
  {
   "cell_type": "code",
   "execution_count": 4,
   "metadata": {},
   "outputs": [
    {
     "name": "stdout",
     "output_type": "stream",
     "text": [
      "(397536, 6)\n",
      "(217352, 6)\n"
     ]
    }
   ],
   "source": [
    "filtered_exp_table = exp_table_long_z[exp_table_long_z['module'].isin(modules_t_test.index)]\n",
    "print(exp_table_long_z.shape)\n",
    "print(filtered_exp_table.shape)"
   ]
  },
  {
   "cell_type": "code",
   "execution_count": 17,
   "metadata": {},
   "outputs": [
    {
     "name": "stdout",
     "output_type": "stream",
     "text": [
      "(296,)\n",
      "(699,)\n"
     ]
    }
   ],
   "source": [
    "print(day_sparxcc['Gene'].unique().shape)\n",
    "print(night_sparxcc['Gene'].unique().shape)"
   ]
  },
  {
   "cell_type": "code",
   "execution_count": null,
   "metadata": {},
   "outputs": [
    {
     "name": "stdout",
     "output_type": "stream",
     "text": [
      "Number of genes cross-correlated with OTUs in day samples in one of the sign modules:\n",
      "(62,)\n",
      "Genes cross-correlated with OTUs in day samples are in the following modules:\n",
      "[ 1  5  7  8  9 12 29 40 45]\n",
      "Number of genes cross-correlated with OTUs in night samples in one of the sign modules:\n",
      "(135,)\n",
      "Genes cross-correlated with OTUs in night samples are in the following modules:\n",
      "[ 1  5  7  8  9 10 12 16 25 26 29 31 39 40 45 52]\n"
     ]
    }
   ],
   "source": [
    "import numpy as np\n",
    "\n",
    "print(\"Number of genes cross-correlated with OTUs in day samples in one of the sign modules:\")\n",
    "print(filtered_exp_table[filtered_exp_table.index.isin(day_sparxcc['Gene'].unique())].index.unique().shape)\n",
    "print(\"Genes cross-correlated with OTUs in day samples are in the following modules:\")\n",
    "print(np.sort(filtered_exp_table[filtered_exp_table.index.isin(day_sparxcc['Gene'].unique())]['module'].unique()))\n",
    "print(\"Number of genes cross-correlated with OTUs in night samples in one of the sign modules:\")\n",
    "print(filtered_exp_table[filtered_exp_table.index.isin(night_sparxcc['Gene'].unique())].index.unique().shape)\n",
    "print(\"Genes cross-correlated with OTUs in night samples are in the following modules:\")\n",
    "print(np.sort(filtered_exp_table[filtered_exp_table.index.isin(night_sparxcc['Gene'].unique())]['module'].unique()))"
   ]
  },
  {
   "cell_type": "markdown",
   "metadata": {},
   "source": [
    "One of the co-expression modules (number 9) is associated with photosynthesis, light response (GO enrichment analysis). What are the genes in this module that also correlates with the abundance of microbes? If amplicon sequencing from RNA really reflects metabolic active bacteria, the influence of host transcriptome on abundance could be more prominent?"
   ]
  },
  {
   "cell_type": "code",
   "execution_count": 17,
   "metadata": {},
   "outputs": [
    {
     "name": "stdout",
     "output_type": "stream",
     "text": [
      "(18,)\n"
     ]
    }
   ],
   "source": [
    "filtered_night_genes_module_9 = filtered_exp_table[filtered_exp_table.index.isin(night_sparxcc['Gene'].unique())]\n",
    "filtered_night_genes_module_9 = filtered_night_genes_module_9[filtered_night_genes_module_9['module'] == 9]\n",
    "print(filtered_night_genes_module_9.index.unique().shape)"
   ]
  },
  {
   "cell_type": "code",
   "execution_count": 18,
   "metadata": {},
   "outputs": [
    {
     "name": "stdout",
     "output_type": "stream",
     "text": [
      "(14,)\n"
     ]
    }
   ],
   "source": [
    "filtered_day_genes_module_9 = filtered_exp_table[filtered_exp_table.index.isin(day_sparxcc['Gene'].unique())]\n",
    "filtered_day_genes_module_9 = filtered_day_genes_module_9[filtered_day_genes_module_9['module'] == 9]\n",
    "print(filtered_day_genes_module_9.index.unique().shape)"
   ]
  },
  {
   "cell_type": "code",
   "execution_count": 22,
   "metadata": {},
   "outputs": [
    {
     "data": {
      "text/plain": [
       "7"
      ]
     },
     "execution_count": 22,
     "metadata": {},
     "output_type": "execute_result"
    }
   ],
   "source": [
    "len(set(filtered_night_genes_module_9.index.unique()).intersection(set(filtered_day_genes_module_9.index.unique())))"
   ]
  },
  {
   "cell_type": "code",
   "execution_count": null,
   "metadata": {},
   "outputs": [],
   "source": []
  }
 ],
 "metadata": {
  "kernelspec": {
   "display_name": ".venv",
   "language": "python",
   "name": "python3"
  },
  "language_info": {
   "codemirror_mode": {
    "name": "ipython",
    "version": 3
   },
   "file_extension": ".py",
   "mimetype": "text/x-python",
   "name": "python",
   "nbconvert_exporter": "python",
   "pygments_lexer": "ipython3",
   "version": "3.10.16"
  }
 },
 "nbformat": 4,
 "nbformat_minor": 2
}
