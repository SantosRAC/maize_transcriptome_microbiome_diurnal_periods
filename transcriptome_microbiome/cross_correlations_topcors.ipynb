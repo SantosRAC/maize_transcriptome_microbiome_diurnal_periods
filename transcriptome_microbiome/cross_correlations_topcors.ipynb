{
 "cells": [
  {
   "cell_type": "markdown",
   "metadata": {},
   "source": [
    "# Identifying top cross-correlations in SparXCC"
   ]
  },
  {
   "cell_type": "code",
   "execution_count": null,
   "metadata": {},
   "outputs": [
    {
     "name": "stdout",
     "output_type": "stream",
     "text": [
      "(650, 3)\n",
      "(1700, 3)\n"
     ]
    }
   ],
   "source": [
    "import pandas as pd\n",
    "\n",
    "# Read the CSV file into a dataframe\n",
    "sparxcc_output_day = pd.read_csv('/home/renato/projects/fapesp_bepe_pd/integration_transcriptome_microbiome/transcriptome_microbiome_paper2025/SparXCC_output_day_common_samples_edgelist.tsv',\n",
    "                 sep='\\t')\n",
    "sparxcc_output_night = pd.read_csv('/home/renato/projects/fapesp_bepe_pd/integration_transcriptome_microbiome/transcriptome_microbiome_paper2025/SparXCC_output_night_common_samples_edgelist.tsv',\n",
    "                 sep='\\t')\n",
    "\n",
    "print(sparxcc_output_day.shape)\n",
    "print(sparxcc_output_night.shape)"
   ]
  },
  {
   "cell_type": "code",
   "execution_count": 24,
   "metadata": {},
   "outputs": [],
   "source": [
    "sparxcc_output_day_sorted = sparxcc_output_day.sort_values(by='CorrelationCoefficient', ascending=False)"
   ]
  },
  {
   "cell_type": "code",
   "execution_count": 25,
   "metadata": {},
   "outputs": [
    {
     "name": "stdout",
     "output_type": "stream",
     "text": [
      "(18, 3)\n",
      "['561885' '241895' 'New.ReferenceOTU108']\n",
      "['Zm00001eb306030_T001' 'Zm00001eb391450_T001' 'Zm00001eb056390_T003'\n",
      " 'Zm00001eb016180_T003' 'Zm00001eb238170_T001' 'Zm00001eb410930_T001'\n",
      " 'Zm00001eb215310_T003' 'Zm00001eb033390_T001' 'Zm00001eb282040_T001'\n",
      " 'Zm00001eb059630_T001' 'Zm00001eb343900_T001' 'Zm00001eb179570_T001'\n",
      " 'Zm00001eb092540_T001' 'Zm00001eb424780_T001' 'Zm00001eb168100_T001'\n",
      " 'Zm00001eb320990_T001' 'Zm00001eb317090_T001' 'Zm00001eb191350_T004']\n"
     ]
    }
   ],
   "source": [
    "# OTUs and genes in the day dataset with correlation coefficient greater than 0.5\n",
    "print(sparxcc_output_day_sorted[sparxcc_output_day_sorted['CorrelationCoefficient'] > 0.5].shape)\n",
    "print(sparxcc_output_day_sorted[sparxcc_output_day_sorted['CorrelationCoefficient'] > 0.5]['OTU'].unique())\n",
    "print(sparxcc_output_day_sorted[sparxcc_output_day_sorted['CorrelationCoefficient'] > 0.5]['Gene'].unique())"
   ]
  },
  {
   "cell_type": "code",
   "execution_count": 30,
   "metadata": {},
   "outputs": [
    {
     "data": {
      "text/html": [
       "<div>\n",
       "<style scoped>\n",
       "    .dataframe tbody tr th:only-of-type {\n",
       "        vertical-align: middle;\n",
       "    }\n",
       "\n",
       "    .dataframe tbody tr th {\n",
       "        vertical-align: top;\n",
       "    }\n",
       "\n",
       "    .dataframe thead th {\n",
       "        text-align: right;\n",
       "    }\n",
       "</style>\n",
       "<table border=\"1\" class=\"dataframe\">\n",
       "  <thead>\n",
       "    <tr style=\"text-align: right;\">\n",
       "      <th></th>\n",
       "      <th>OTU</th>\n",
       "      <th>Gene</th>\n",
       "      <th>CorrelationCoefficient</th>\n",
       "    </tr>\n",
       "  </thead>\n",
       "  <tbody>\n",
       "    <tr>\n",
       "      <th>58</th>\n",
       "      <td>561885</td>\n",
       "      <td>Zm00001eb306030_T001</td>\n",
       "      <td>0.615943</td>\n",
       "    </tr>\n",
       "    <tr>\n",
       "      <th>88</th>\n",
       "      <td>561885</td>\n",
       "      <td>Zm00001eb391450_T001</td>\n",
       "      <td>0.595006</td>\n",
       "    </tr>\n",
       "    <tr>\n",
       "      <th>21</th>\n",
       "      <td>561885</td>\n",
       "      <td>Zm00001eb056390_T003</td>\n",
       "      <td>0.554614</td>\n",
       "    </tr>\n",
       "    <tr>\n",
       "      <th>154</th>\n",
       "      <td>241895</td>\n",
       "      <td>Zm00001eb016180_T003</td>\n",
       "      <td>0.546664</td>\n",
       "    </tr>\n",
       "    <tr>\n",
       "      <th>18</th>\n",
       "      <td>561885</td>\n",
       "      <td>Zm00001eb238170_T001</td>\n",
       "      <td>0.545369</td>\n",
       "    </tr>\n",
       "    <tr>\n",
       "      <th>56</th>\n",
       "      <td>561885</td>\n",
       "      <td>Zm00001eb410930_T001</td>\n",
       "      <td>0.537842</td>\n",
       "    </tr>\n",
       "    <tr>\n",
       "      <th>19</th>\n",
       "      <td>561885</td>\n",
       "      <td>Zm00001eb215310_T003</td>\n",
       "      <td>0.522949</td>\n",
       "    </tr>\n",
       "    <tr>\n",
       "      <th>51</th>\n",
       "      <td>561885</td>\n",
       "      <td>Zm00001eb033390_T001</td>\n",
       "      <td>0.521188</td>\n",
       "    </tr>\n",
       "    <tr>\n",
       "      <th>86</th>\n",
       "      <td>561885</td>\n",
       "      <td>Zm00001eb282040_T001</td>\n",
       "      <td>0.518246</td>\n",
       "    </tr>\n",
       "    <tr>\n",
       "      <th>74</th>\n",
       "      <td>561885</td>\n",
       "      <td>Zm00001eb059630_T001</td>\n",
       "      <td>0.514749</td>\n",
       "    </tr>\n",
       "    <tr>\n",
       "      <th>10</th>\n",
       "      <td>561885</td>\n",
       "      <td>Zm00001eb343900_T001</td>\n",
       "      <td>0.512684</td>\n",
       "    </tr>\n",
       "    <tr>\n",
       "      <th>237</th>\n",
       "      <td>241895</td>\n",
       "      <td>Zm00001eb179570_T001</td>\n",
       "      <td>0.509825</td>\n",
       "    </tr>\n",
       "    <tr>\n",
       "      <th>555</th>\n",
       "      <td>New.ReferenceOTU108</td>\n",
       "      <td>Zm00001eb092540_T001</td>\n",
       "      <td>0.507240</td>\n",
       "    </tr>\n",
       "    <tr>\n",
       "      <th>215</th>\n",
       "      <td>241895</td>\n",
       "      <td>Zm00001eb424780_T001</td>\n",
       "      <td>0.506314</td>\n",
       "    </tr>\n",
       "    <tr>\n",
       "      <th>87</th>\n",
       "      <td>561885</td>\n",
       "      <td>Zm00001eb168100_T001</td>\n",
       "      <td>0.503392</td>\n",
       "    </tr>\n",
       "    <tr>\n",
       "      <th>217</th>\n",
       "      <td>241895</td>\n",
       "      <td>Zm00001eb320990_T001</td>\n",
       "      <td>0.502922</td>\n",
       "    </tr>\n",
       "    <tr>\n",
       "      <th>36</th>\n",
       "      <td>561885</td>\n",
       "      <td>Zm00001eb317090_T001</td>\n",
       "      <td>0.501883</td>\n",
       "    </tr>\n",
       "    <tr>\n",
       "      <th>201</th>\n",
       "      <td>241895</td>\n",
       "      <td>Zm00001eb191350_T004</td>\n",
       "      <td>0.501035</td>\n",
       "    </tr>\n",
       "  </tbody>\n",
       "</table>\n",
       "</div>"
      ],
      "text/plain": [
       "                     OTU                  Gene  CorrelationCoefficient\n",
       "58                561885  Zm00001eb306030_T001                0.615943\n",
       "88                561885  Zm00001eb391450_T001                0.595006\n",
       "21                561885  Zm00001eb056390_T003                0.554614\n",
       "154               241895  Zm00001eb016180_T003                0.546664\n",
       "18                561885  Zm00001eb238170_T001                0.545369\n",
       "56                561885  Zm00001eb410930_T001                0.537842\n",
       "19                561885  Zm00001eb215310_T003                0.522949\n",
       "51                561885  Zm00001eb033390_T001                0.521188\n",
       "86                561885  Zm00001eb282040_T001                0.518246\n",
       "74                561885  Zm00001eb059630_T001                0.514749\n",
       "10                561885  Zm00001eb343900_T001                0.512684\n",
       "237               241895  Zm00001eb179570_T001                0.509825\n",
       "555  New.ReferenceOTU108  Zm00001eb092540_T001                0.507240\n",
       "215               241895  Zm00001eb424780_T001                0.506314\n",
       "87                561885  Zm00001eb168100_T001                0.503392\n",
       "217               241895  Zm00001eb320990_T001                0.502922\n",
       "36                561885  Zm00001eb317090_T001                0.501883\n",
       "201               241895  Zm00001eb191350_T004                0.501035"
      ]
     },
     "execution_count": 30,
     "metadata": {},
     "output_type": "execute_result"
    }
   ],
   "source": [
    "sparxcc_output_day_sorted[sparxcc_output_day_sorted['CorrelationCoefficient'] > 0.5]"
   ]
  },
  {
   "cell_type": "code",
   "execution_count": 26,
   "metadata": {},
   "outputs": [
    {
     "name": "stdout",
     "output_type": "stream",
     "text": [
      "(10, 3)\n",
      "['1080436' '590099' '241895' '589376' '907206']\n",
      "['Zm00001eb143300_T001' 'Zm00001eb092540_T001' 'Zm00001eb055330_T001'\n",
      " 'Zm00001eb248150_T001' 'Zm00001eb410930_T001' 'Zm00001eb046960_T001'\n",
      " 'Zm00001eb159710_T004' 'Zm00001eb367770_T003' 'Zm00001eb033390_T001'\n",
      " 'Zm00001eb010540_T001']\n"
     ]
    }
   ],
   "source": [
    "# OTUs and genes in the day dataset with correlation coefficient lower than -0.5\n",
    "print(sparxcc_output_day_sorted[sparxcc_output_day_sorted['CorrelationCoefficient'] < -0.5].shape)\n",
    "print(sparxcc_output_day_sorted[sparxcc_output_day_sorted['CorrelationCoefficient'] < -0.5]['OTU'].unique())\n",
    "print(sparxcc_output_day_sorted[sparxcc_output_day_sorted['CorrelationCoefficient'] < -0.5]['Gene'].unique())"
   ]
  },
  {
   "cell_type": "code",
   "execution_count": null,
   "metadata": {},
   "outputs": [
    {
     "name": "stdout",
     "output_type": "stream",
     "text": [
      "(42, 3)\n",
      "(72, 3)\n"
     ]
    }
   ],
   "source": [
    "sparxcc_output_night_sorted = sparxcc_output_night.sort_values(by='CorrelationCoefficient', ascending=False)"
   ]
  },
  {
   "cell_type": "code",
   "execution_count": 28,
   "metadata": {},
   "outputs": [
    {
     "name": "stdout",
     "output_type": "stream",
     "text": [
      "(42, 3)\n",
      "['New.ReferenceOTU2397' '241895']\n",
      "['Zm00001eb351380_T001' 'Zm00001eb397980_T004' 'Zm00001eb331200_T001'\n",
      " 'Zm00001eb403260_T004' 'Zm00001eb102460_T001' 'Zm00001eb375430_T001'\n",
      " 'Zm00001eb079330_T001' 'Zm00001eb282290_T003' 'Zm00001eb169490_T004'\n",
      " 'Zm00001eb113790_T002' 'Zm00001eb388350_T002' 'Zm00001eb379950_T001'\n",
      " 'Zm00001eb019470_T001' 'Zm00001eb362500_T001' 'Zm00001eb040040_T001'\n",
      " 'Zm00001eb042470_T001' 'Zm00001eb057540_T005' 'Zm00001eb064680_T001'\n",
      " 'Zm00001eb228790_T001' 'Zm00001eb315900_T001' 'Zm00001eb162370_T006'\n",
      " 'Zm00001eb285890_T008' 'Zm00001eb355580_T002' 'Zm00001eb179130_T002'\n",
      " 'Zm00001eb397070_T001' 'Zm00001eb031300_T001' 'Zm00001eb234870_T001'\n",
      " 'Zm00001eb375210_T001' 'Zm00001eb295490_T002' 'Zm00001eb249340_T001'\n",
      " 'Zm00001eb221680_T001' 'Zm00001eb181400_T001' 'Zm00001eb362820_T001'\n",
      " 'Zm00001eb119690_T002' 'Zm00001eb272740_T002' 'Zm00001eb143290_T001'\n",
      " 'Zm00001eb395180_T001']\n"
     ]
    }
   ],
   "source": [
    "# OTUs and genes in the night dataset with correlation coefficient greater than 0.5\n",
    "print(sparxcc_output_night_sorted[sparxcc_output_night_sorted['CorrelationCoefficient'] > 0.5].shape)\n",
    "print(sparxcc_output_night_sorted[sparxcc_output_night_sorted['CorrelationCoefficient'] > 0.5]['OTU'].unique())\n",
    "print(sparxcc_output_night_sorted[sparxcc_output_night_sorted['CorrelationCoefficient'] > 0.5]['Gene'].unique())"
   ]
  },
  {
   "cell_type": "code",
   "execution_count": null,
   "metadata": {},
   "outputs": [
    {
     "name": "stdout",
     "output_type": "stream",
     "text": [
      "(72, 3)\n",
      "['New.ReferenceOTU2397' '241895' '1690095']\n",
      "['Zm00001eb253150_T001' 'Zm00001eb328390_T001' 'Zm00001eb074890_T002'\n",
      " 'Zm00001eb416740_T001' 'Zm00001eb191060_T001' 'Zm00001eb250240_T001'\n",
      " 'Zm00001eb202590_T001' 'Zm00001eb106810_T001' 'Zm00001eb153190_T001'\n",
      " 'Zm00001eb332580_T001' 'Zm00001eb161270_T001' 'Zm00001eb152360_T002'\n",
      " 'Zm00001eb397240_T001' 'Zm00001eb320540_T001' 'Zm00001eb070310_T001'\n",
      " 'Zm00001eb147910_T001' 'Zm00001eb324240_T001' 'Zm00001eb265040_T001'\n",
      " 'Zm00001eb347850_T001' 'Zm00001eb084520_T001' 'Zm00001eb358270_T003'\n",
      " 'Zm00001eb110100_T002' 'Zm00001eb020130_T001' 'Zm00001eb415360_T001'\n",
      " 'Zm00001eb225060_T002' 'Zm00001eb010200_T001' 'Zm00001eb356910_T003'\n",
      " 'Zm00001eb436760_T001' 'Zm00001eb239520_T001' 'Zm00001eb310620_T001'\n",
      " 'Zm00001eb078770_T001' 'Zm00001eb013980_T001' 'Zm00001eb199590_T002'\n",
      " 'Zm00001eb407750_T003' 'Zm00001eb400030_T002' 'Zm00001eb390820_T001'\n",
      " 'Zm00001eb156040_T001' 'Zm00001eb179570_T001' 'Zm00001eb045450_T001'\n",
      " 'Zm00001eb179680_T001' 'Zm00001eb145580_T001' 'Zm00001eb332610_T001'\n",
      " 'Zm00001eb114860_T002' 'Zm00001eb393290_T001' 'Zm00001eb162020_T003'\n",
      " 'Zm00001eb113530_T003' 'Zm00001eb159850_T001' 'Zm00001eb031210_T001'\n",
      " 'Zm00001eb066320_T001' 'Zm00001eb046260_T003' 'Zm00001eb389290_T001'\n",
      " 'Zm00001eb012690_T001' 'Zm00001eb119410_T001' 'Zm00001eb423570_T002'\n",
      " 'Zm00001eb122110_T003']\n"
     ]
    }
   ],
   "source": [
    "# OTUs and genes in the night dataset with correlation coefficient lower than -0.5\n",
    "print(sparxcc_output_night_sorted[sparxcc_output_night_sorted['CorrelationCoefficient'] < -0.5].shape)\n",
    "print(sparxcc_output_night_sorted[sparxcc_output_night_sorted['CorrelationCoefficient'] < -0.5]['OTU'].unique())\n",
    "print(sparxcc_output_night_sorted[sparxcc_output_night_sorted['CorrelationCoefficient'] < -0.5]['Gene'].unique())"
   ]
  },
  {
   "cell_type": "code",
   "execution_count": 35,
   "metadata": {},
   "outputs": [
    {
     "data": {
      "text/plain": [
       "{'241895'}"
      ]
     },
     "execution_count": 35,
     "metadata": {},
     "output_type": "execute_result"
    }
   ],
   "source": [
    "set(sparxcc_output_day_sorted[sparxcc_output_day_sorted['CorrelationCoefficient'] > 0.5]['OTU'].unique()).intersection(sparxcc_output_day_sorted[sparxcc_output_day_sorted['CorrelationCoefficient'] < -0.5]['OTU'].unique())"
   ]
  },
  {
   "cell_type": "code",
   "execution_count": 36,
   "metadata": {},
   "outputs": [
    {
     "data": {
      "text/plain": [
       "{'241895', 'New.ReferenceOTU2397'}"
      ]
     },
     "execution_count": 36,
     "metadata": {},
     "output_type": "execute_result"
    }
   ],
   "source": [
    "set(sparxcc_output_night_sorted[sparxcc_output_night_sorted['CorrelationCoefficient'] > 0.5]['OTU'].unique()).intersection(sparxcc_output_night_sorted[sparxcc_output_night_sorted['CorrelationCoefficient'] < -0.5]['OTU'].unique())"
   ]
  },
  {
   "cell_type": "code",
   "execution_count": 37,
   "metadata": {},
   "outputs": [
    {
     "data": {
      "text/plain": [
       "{'241895'}"
      ]
     },
     "execution_count": 37,
     "metadata": {},
     "output_type": "execute_result"
    }
   ],
   "source": [
    "set(sparxcc_output_night_sorted[sparxcc_output_night_sorted['CorrelationCoefficient'] < -0.5]['OTU'].unique()).intersection(sparxcc_output_day_sorted[sparxcc_output_day_sorted['CorrelationCoefficient'] < -0.5]['OTU'].unique())"
   ]
  },
  {
   "cell_type": "code",
   "execution_count": 38,
   "metadata": {},
   "outputs": [
    {
     "data": {
      "text/plain": [
       "{'241895'}"
      ]
     },
     "execution_count": 38,
     "metadata": {},
     "output_type": "execute_result"
    }
   ],
   "source": [
    "set(sparxcc_output_night_sorted[sparxcc_output_night_sorted['CorrelationCoefficient'] > 0.5]['OTU'].unique()).intersection(sparxcc_output_day_sorted[sparxcc_output_day_sorted['CorrelationCoefficient'] > 0.5]['OTU'].unique())"
   ]
  },
  {
   "cell_type": "code",
   "execution_count": 45,
   "metadata": {},
   "outputs": [
    {
     "data": {
      "text/plain": [
       "(55, 3)"
      ]
     },
     "execution_count": 45,
     "metadata": {},
     "output_type": "execute_result"
    }
   ],
   "source": [
    "sparxcc_output_day_sorted[(sparxcc_output_day_sorted['CorrelationCoefficient'] > 0) & (sparxcc_output_day_sorted['OTU'] == '241895')].shape"
   ]
  },
  {
   "cell_type": "code",
   "execution_count": 47,
   "metadata": {},
   "outputs": [
    {
     "data": {
      "text/plain": [
       "(75, 3)"
      ]
     },
     "execution_count": 47,
     "metadata": {},
     "output_type": "execute_result"
    }
   ],
   "source": [
    "sparxcc_output_day_sorted[(sparxcc_output_day_sorted['CorrelationCoefficient'] < 0) & (sparxcc_output_day_sorted['OTU'] == '241895')].shape"
   ]
  },
  {
   "cell_type": "code",
   "execution_count": 48,
   "metadata": {},
   "outputs": [
    {
     "data": {
      "text/plain": [
       "(223, 3)"
      ]
     },
     "execution_count": 48,
     "metadata": {},
     "output_type": "execute_result"
    }
   ],
   "source": [
    "sparxcc_output_night_sorted[(sparxcc_output_night_sorted['CorrelationCoefficient'] > 0) & (sparxcc_output_night_sorted['OTU'] == '241895')].shape"
   ]
  },
  {
   "cell_type": "code",
   "execution_count": 49,
   "metadata": {},
   "outputs": [
    {
     "data": {
      "text/plain": [
       "(229, 3)"
      ]
     },
     "execution_count": 49,
     "metadata": {},
     "output_type": "execute_result"
    }
   ],
   "source": [
    "sparxcc_output_night_sorted[(sparxcc_output_night_sorted['CorrelationCoefficient'] < 0) & (sparxcc_output_night_sorted['OTU'] == '241895')].shape"
   ]
  },
  {
   "cell_type": "markdown",
   "metadata": {},
   "source": [
    "Identifying genes shared among groups cross-correlated with Deinococcus"
   ]
  },
  {
   "cell_type": "code",
   "execution_count": 67,
   "metadata": {},
   "outputs": [
    {
     "data": {
      "text/plain": [
       "['Zm00001eb016180_T003',\n",
       " 'Zm00001eb179570_T001',\n",
       " 'Zm00001eb424780_T001',\n",
       " 'Zm00001eb320990_T001',\n",
       " 'Zm00001eb191350_T004']"
      ]
     },
     "execution_count": 67,
     "metadata": {},
     "output_type": "execute_result"
    }
   ],
   "source": [
    "sparxcc_output_day_sorted[(sparxcc_output_day_sorted['CorrelationCoefficient'] > 0.5) & (sparxcc_output_day_sorted['OTU'] == '241895')]['Gene'].unique().tolist()"
   ]
  },
  {
   "cell_type": "code",
   "execution_count": 68,
   "metadata": {},
   "outputs": [
    {
     "data": {
      "text/plain": [
       "['Zm00001eb055330_T001',\n",
       " 'Zm00001eb248150_T001',\n",
       " 'Zm00001eb046960_T001',\n",
       " 'Zm00001eb159710_T004',\n",
       " 'Zm00001eb367770_T003',\n",
       " 'Zm00001eb010540_T001']"
      ]
     },
     "execution_count": 68,
     "metadata": {},
     "output_type": "execute_result"
    }
   ],
   "source": [
    "sparxcc_output_day_sorted[(sparxcc_output_day_sorted['CorrelationCoefficient'] < -0.5) & (sparxcc_output_day_sorted['OTU'] == '241895')]['Gene'].unique().tolist()"
   ]
  },
  {
   "cell_type": "code",
   "execution_count": 62,
   "metadata": {},
   "outputs": [
    {
     "data": {
      "text/plain": [
       "set()"
      ]
     },
     "execution_count": 62,
     "metadata": {},
     "output_type": "execute_result"
    }
   ],
   "source": [
    "set(sparxcc_output_day_sorted[(sparxcc_output_day_sorted['CorrelationCoefficient'] > 0.5) & (sparxcc_output_day_sorted['OTU'] == '241895')]['Gene'].unique()).intersection(sparxcc_output_day_sorted[(sparxcc_output_day_sorted['CorrelationCoefficient'] < -0.5) & (sparxcc_output_day_sorted['OTU'] == '241895')]['Gene'].unique())"
   ]
  },
  {
   "cell_type": "code",
   "execution_count": 60,
   "metadata": {},
   "outputs": [
    {
     "data": {
      "text/plain": [
       "array(['Zm00001eb397980_T004', 'Zm00001eb331200_T001',\n",
       "       'Zm00001eb403260_T004', 'Zm00001eb102460_T001',\n",
       "       'Zm00001eb079330_T001', 'Zm00001eb282290_T003',\n",
       "       'Zm00001eb169490_T004', 'Zm00001eb113790_T002',\n",
       "       'Zm00001eb379950_T001', 'Zm00001eb019470_T001',\n",
       "       'Zm00001eb042470_T001', 'Zm00001eb064680_T001',\n",
       "       'Zm00001eb228790_T001', 'Zm00001eb315900_T001',\n",
       "       'Zm00001eb285890_T008', 'Zm00001eb179130_T002',\n",
       "       'Zm00001eb397070_T001', 'Zm00001eb040040_T001',\n",
       "       'Zm00001eb234870_T001', 'Zm00001eb295490_T002',\n",
       "       'Zm00001eb362820_T001', 'Zm00001eb119690_T002',\n",
       "       'Zm00001eb272740_T002', 'Zm00001eb143290_T001'], dtype=object)"
      ]
     },
     "execution_count": 60,
     "metadata": {},
     "output_type": "execute_result"
    }
   ],
   "source": [
    "sparxcc_output_night_sorted[(sparxcc_output_night_sorted['CorrelationCoefficient'] > 0.5) & (sparxcc_output_night_sorted['OTU'] == '241895')]['Gene'].unique()"
   ]
  },
  {
   "cell_type": "code",
   "execution_count": 61,
   "metadata": {},
   "outputs": [
    {
     "data": {
      "text/plain": [
       "array(['Zm00001eb074890_T002', 'Zm00001eb202590_T001',\n",
       "       'Zm00001eb153190_T001', 'Zm00001eb332580_T001',\n",
       "       'Zm00001eb161270_T001', 'Zm00001eb152360_T002',\n",
       "       'Zm00001eb320540_T001', 'Zm00001eb070310_T001',\n",
       "       'Zm00001eb147910_T001', 'Zm00001eb324240_T001',\n",
       "       'Zm00001eb265040_T001', 'Zm00001eb347850_T001',\n",
       "       'Zm00001eb020130_T001', 'Zm00001eb010200_T001',\n",
       "       'Zm00001eb356910_T003', 'Zm00001eb436760_T001',\n",
       "       'Zm00001eb250240_T001', 'Zm00001eb310620_T001',\n",
       "       'Zm00001eb078770_T001', 'Zm00001eb013980_T001',\n",
       "       'Zm00001eb199590_T002', 'Zm00001eb407750_T003',\n",
       "       'Zm00001eb400030_T002', 'Zm00001eb156040_T001',\n",
       "       'Zm00001eb179570_T001', 'Zm00001eb179680_T001',\n",
       "       'Zm00001eb145580_T001', 'Zm00001eb332610_T001',\n",
       "       'Zm00001eb114860_T002', 'Zm00001eb162020_T003',\n",
       "       'Zm00001eb045450_T001', 'Zm00001eb159850_T001',\n",
       "       'Zm00001eb113530_T003', 'Zm00001eb066320_T001',\n",
       "       'Zm00001eb393290_T001', 'Zm00001eb046260_T003',\n",
       "       'Zm00001eb031210_T001', 'Zm00001eb390820_T001',\n",
       "       'Zm00001eb225060_T002', 'Zm00001eb415360_T001',\n",
       "       'Zm00001eb423570_T002', 'Zm00001eb012690_T001',\n",
       "       'Zm00001eb397240_T001', 'Zm00001eb239520_T001',\n",
       "       'Zm00001eb122110_T003'], dtype=object)"
      ]
     },
     "execution_count": 61,
     "metadata": {},
     "output_type": "execute_result"
    }
   ],
   "source": [
    "sparxcc_output_night_sorted[(sparxcc_output_night_sorted['CorrelationCoefficient'] < -0.5) & (sparxcc_output_night_sorted['OTU'] == '241895')]['Gene'].unique()"
   ]
  },
  {
   "cell_type": "code",
   "execution_count": 63,
   "metadata": {},
   "outputs": [
    {
     "data": {
      "text/plain": [
       "set()"
      ]
     },
     "execution_count": 63,
     "metadata": {},
     "output_type": "execute_result"
    }
   ],
   "source": [
    "set(sparxcc_output_night_sorted[(sparxcc_output_night_sorted['CorrelationCoefficient'] > 0.5) & (sparxcc_output_night_sorted['OTU'] == '241895')]['Gene'].unique()).intersection(sparxcc_output_night_sorted[(sparxcc_output_night_sorted['CorrelationCoefficient'] < -0.5) & (sparxcc_output_night_sorted['OTU'] == '241895')]['Gene'].unique())"
   ]
  },
  {
   "cell_type": "code",
   "execution_count": 64,
   "metadata": {},
   "outputs": [
    {
     "data": {
      "text/plain": [
       "set()"
      ]
     },
     "execution_count": 64,
     "metadata": {},
     "output_type": "execute_result"
    }
   ],
   "source": [
    "set(sparxcc_output_night_sorted[(sparxcc_output_night_sorted['CorrelationCoefficient'] > 0.5) & (sparxcc_output_night_sorted['OTU'] == '241895')]['Gene'].unique()).intersection(sparxcc_output_day_sorted[(sparxcc_output_day_sorted['CorrelationCoefficient'] > 0.5) & (sparxcc_output_day_sorted['OTU'] == '241895')]['Gene'].unique())"
   ]
  },
  {
   "cell_type": "code",
   "execution_count": 65,
   "metadata": {},
   "outputs": [
    {
     "data": {
      "text/plain": [
       "set()"
      ]
     },
     "execution_count": 65,
     "metadata": {},
     "output_type": "execute_result"
    }
   ],
   "source": [
    "set(sparxcc_output_night_sorted[(sparxcc_output_night_sorted['CorrelationCoefficient'] < -0.5) & (sparxcc_output_night_sorted['OTU'] == '241895')]['Gene'].unique()).intersection(sparxcc_output_day_sorted[(sparxcc_output_day_sorted['CorrelationCoefficient'] < -0.5) & (sparxcc_output_day_sorted['OTU'] == '241895')]['Gene'].unique())"
   ]
  },
  {
   "cell_type": "markdown",
   "metadata": {},
   "source": [
    "Genes shared between different conditions, in the groups of high cross-correlations"
   ]
  },
  {
   "cell_type": "code",
   "execution_count": 50,
   "metadata": {},
   "outputs": [
    {
     "data": {
      "text/plain": [
       "{'Zm00001eb033390_T001', 'Zm00001eb092540_T001', 'Zm00001eb410930_T001'}"
      ]
     },
     "execution_count": 50,
     "metadata": {},
     "output_type": "execute_result"
    }
   ],
   "source": [
    "set(sparxcc_output_day_sorted[sparxcc_output_day_sorted['CorrelationCoefficient'] > 0.5]['Gene'].unique()).intersection(sparxcc_output_day_sorted[sparxcc_output_day_sorted['CorrelationCoefficient'] < -0.5]['Gene'].unique())"
   ]
  },
  {
   "cell_type": "code",
   "execution_count": 52,
   "metadata": {},
   "outputs": [
    {
     "data": {
      "text/plain": [
       "set()"
      ]
     },
     "execution_count": 52,
     "metadata": {},
     "output_type": "execute_result"
    }
   ],
   "source": [
    "set(sparxcc_output_night_sorted[sparxcc_output_night_sorted['CorrelationCoefficient'] > 0.5]['Gene'].unique()).intersection(sparxcc_output_night_sorted[sparxcc_output_night_sorted['CorrelationCoefficient'] < -0.5]['Gene'].unique())"
   ]
  },
  {
   "cell_type": "code",
   "execution_count": 53,
   "metadata": {},
   "outputs": [
    {
     "data": {
      "text/plain": [
       "set()"
      ]
     },
     "execution_count": 53,
     "metadata": {},
     "output_type": "execute_result"
    }
   ],
   "source": [
    "set(sparxcc_output_night_sorted[sparxcc_output_night_sorted['CorrelationCoefficient'] < -0.5]['Gene'].unique()).intersection(sparxcc_output_day_sorted[sparxcc_output_day_sorted['CorrelationCoefficient'] < -0.5]['Gene'].unique())"
   ]
  },
  {
   "cell_type": "code",
   "execution_count": 54,
   "metadata": {},
   "outputs": [
    {
     "data": {
      "text/plain": [
       "set()"
      ]
     },
     "execution_count": 54,
     "metadata": {},
     "output_type": "execute_result"
    }
   ],
   "source": [
    "set(sparxcc_output_night_sorted[sparxcc_output_night_sorted['CorrelationCoefficient'] > 0.5]['Gene'].unique()).intersection(sparxcc_output_day_sorted[sparxcc_output_day_sorted['CorrelationCoefficient'] > 0.5]['Gene'].unique())"
   ]
  }
 ],
 "metadata": {
  "kernelspec": {
   "display_name": ".venv",
   "language": "python",
   "name": "python3"
  },
  "language_info": {
   "codemirror_mode": {
    "name": "ipython",
    "version": 3
   },
   "file_extension": ".py",
   "mimetype": "text/x-python",
   "name": "python",
   "nbconvert_exporter": "python",
   "pygments_lexer": "ipython3",
   "version": "3.10.16"
  }
 },
 "nbformat": 4,
 "nbformat_minor": 2
}
